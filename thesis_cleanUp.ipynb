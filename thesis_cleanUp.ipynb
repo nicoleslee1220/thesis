{
  "cells": [
    {
      "cell_type": "code",
      "execution_count": 1,
      "metadata": {
        "id": "cDyvq7j554X7"
      },
      "outputs": [],
      "source": [
        "import pandas as pd\n",
        "import matplotlib.pyplot as plt\n",
        "import random\n",
        "from sklearn.preprocessing import MinMaxScaler\n",
        "from numpy import NaN\n",
        "import numpy as np\n",
        "import os\n"
      ]
    },
    {
      "cell_type": "code",
      "execution_count": 2,
      "metadata": {
        "colab": {
          "base_uri": "https://localhost:8080/"
        },
        "id": "84wY30jB55ga",
        "outputId": "9d62ee62-4318-4c0b-8797-a11d9b4bd410"
      },
      "outputs": [
        {
          "output_type": "stream",
          "name": "stdout",
          "text": [
            "Mounted at /content/drive\n"
          ]
        }
      ],
      "source": [
        "# if resetting my working directory is necessary, use this to check my current directory\n",
        "# os.getcwd()\n",
        "\n",
        "# set directory on google drive to where UNOS raw files are\n",
        "from google.colab import drive\n",
        "drive.mount('/content/drive')\n",
        "os.chdir('./drive/MyDrive/kidney')"
      ]
    },
    {
      "cell_type": "code",
      "execution_count": 3,
      "metadata": {
        "id": "zFqIe5xF56zv"
      },
      "outputs": [],
      "source": [
        "# read in .dat and .htm (both are UNOS raw files)\n",
        "\n",
        "# getting the column naems\n",
        "kidpan_htm = pd.read_html('KIDPAN_DATA.htm')\n",
        "label = kidpan_htm[0]['LABEL']\n",
        "\n",
        "# gettting data\n",
        "kidpan_data_org = pd.read_csv('KIDPAN_DATA.DAT', header=None, sep='\\t', low_memory=False)"
      ]
    },
    {
      "cell_type": "code",
      "execution_count": 4,
      "metadata": {
        "id": "a7UwJ1ly58-B"
      },
      "outputs": [],
      "source": [
        "# use label to set column names for kidpan_data_org\n",
        "kidpan_data_org.columns = label\n",
        "\n",
        "# filling in '.' with NaN\n",
        "kidpan_data_org = kidpan_data_org.replace('.', NaN)\n",
        "\n",
        "# reset index\n",
        "kidpan_data_org.index += 1"
      ]
    },
    {
      "cell_type": "code",
      "source": [
        "# check dim of the data. should be (1097058, 491)\n",
        "kidpan_data_org.shape"
      ],
      "metadata": {
        "colab": {
          "base_uri": "https://localhost:8080/"
        },
        "id": "LIQ1D2DawbKA",
        "outputId": "9f331d59-bca2-493b-f364-b67db9132723"
      },
      "execution_count": 5,
      "outputs": [
        {
          "output_type": "execute_result",
          "data": {
            "text/plain": [
              "(1097058, 491)"
            ]
          },
          "metadata": {},
          "execution_count": 5
        }
      ]
    },
    {
      "cell_type": "code",
      "execution_count": 6,
      "metadata": {
        "colab": {
          "base_uri": "https://localhost:8080/",
          "height": 299
        },
        "id": "YBo_t0G65_XJ",
        "outputId": "e8b3ab46-f4e5-4282-cf21-f3009bc56ebf"
      },
      "outputs": [
        {
          "output_type": "execute_result",
          "data": {
            "text/plain": [
              "LABEL WL_ORG COD_WL  COD_OSTXT_WL NUM_PREV_TX CURRENT_PRA PEAK_PRA  \\\n",
              "1         PA    NaN           NaN           0         NaN      NaN   \n",
              "2         KI    NaN           NaN           0           0        0   \n",
              "3         KI    NaN           NaN           0           0        0   \n",
              "4         KI    NaN           NaN           1           3        3   \n",
              "5         KI    NaN           NaN           1           5        8   \n",
              "\n",
              "LABEL USE_WHICH_PRA CREAT_CLEAR  GFR DONATION  ... INO_PROCURE_OSTXT_1  \\\n",
              "1               NaN         NaN  NaN      NaN  ...                 NaN   \n",
              "2                 C         NaN  NaN        N  ...                 NaN   \n",
              "3                 C         NaN  NaN        N  ...                 NaN   \n",
              "4                 C         NaN  NaN        N  ...                 NaN   \n",
              "5                 C         NaN  NaN        N  ...                 NaN   \n",
              "\n",
              "LABEL INO_PROCURE_OSTXT_2 INO_PROCURE_OSTXT_3 DATA_TRANSPLANT DATA_WAITLIST  \\\n",
              "1                     NaN                 NaN               N             Y   \n",
              "2                     NaN                 NaN               N             Y   \n",
              "3                     NaN                 NaN               Y             Y   \n",
              "4                     NaN                 NaN               N             Y   \n",
              "5                     NaN                 NaN               Y             Y   \n",
              "\n",
              "LABEL CTR_CODE OPO_CTR_CODE INIT_OPO_CTR_CODE END_OPO_CTR_CODE  \\\n",
              "1      Unknown      Unknown             14353            14353   \n",
              "2      Unknown      Unknown             03658            03658   \n",
              "3        18259        03658             03658            03658   \n",
              "4      Unknown      Unknown             03658            03658   \n",
              "5        18259        03658             03658            03658   \n",
              "\n",
              "LABEL LISTING_CTR_CODE  \n",
              "1                24800  \n",
              "2                18259  \n",
              "3                18259  \n",
              "4                18259  \n",
              "5                18259  \n",
              "\n",
              "[5 rows x 491 columns]"
            ],
            "text/html": [
              "\n",
              "\n",
              "  <div id=\"df-2c19c764-545d-4080-a8c1-156ce5a32534\">\n",
              "    <div class=\"colab-df-container\">\n",
              "      <div>\n",
              "<style scoped>\n",
              "    .dataframe tbody tr th:only-of-type {\n",
              "        vertical-align: middle;\n",
              "    }\n",
              "\n",
              "    .dataframe tbody tr th {\n",
              "        vertical-align: top;\n",
              "    }\n",
              "\n",
              "    .dataframe thead th {\n",
              "        text-align: right;\n",
              "    }\n",
              "</style>\n",
              "<table border=\"1\" class=\"dataframe\">\n",
              "  <thead>\n",
              "    <tr style=\"text-align: right;\">\n",
              "      <th>LABEL</th>\n",
              "      <th>WL_ORG</th>\n",
              "      <th>COD_WL</th>\n",
              "      <th>COD_OSTXT_WL</th>\n",
              "      <th>NUM_PREV_TX</th>\n",
              "      <th>CURRENT_PRA</th>\n",
              "      <th>PEAK_PRA</th>\n",
              "      <th>USE_WHICH_PRA</th>\n",
              "      <th>CREAT_CLEAR</th>\n",
              "      <th>GFR</th>\n",
              "      <th>DONATION</th>\n",
              "      <th>...</th>\n",
              "      <th>INO_PROCURE_OSTXT_1</th>\n",
              "      <th>INO_PROCURE_OSTXT_2</th>\n",
              "      <th>INO_PROCURE_OSTXT_3</th>\n",
              "      <th>DATA_TRANSPLANT</th>\n",
              "      <th>DATA_WAITLIST</th>\n",
              "      <th>CTR_CODE</th>\n",
              "      <th>OPO_CTR_CODE</th>\n",
              "      <th>INIT_OPO_CTR_CODE</th>\n",
              "      <th>END_OPO_CTR_CODE</th>\n",
              "      <th>LISTING_CTR_CODE</th>\n",
              "    </tr>\n",
              "  </thead>\n",
              "  <tbody>\n",
              "    <tr>\n",
              "      <th>1</th>\n",
              "      <td>PA</td>\n",
              "      <td>NaN</td>\n",
              "      <td>NaN</td>\n",
              "      <td>0</td>\n",
              "      <td>NaN</td>\n",
              "      <td>NaN</td>\n",
              "      <td>NaN</td>\n",
              "      <td>NaN</td>\n",
              "      <td>NaN</td>\n",
              "      <td>NaN</td>\n",
              "      <td>...</td>\n",
              "      <td>NaN</td>\n",
              "      <td>NaN</td>\n",
              "      <td>NaN</td>\n",
              "      <td>N</td>\n",
              "      <td>Y</td>\n",
              "      <td>Unknown</td>\n",
              "      <td>Unknown</td>\n",
              "      <td>14353</td>\n",
              "      <td>14353</td>\n",
              "      <td>24800</td>\n",
              "    </tr>\n",
              "    <tr>\n",
              "      <th>2</th>\n",
              "      <td>KI</td>\n",
              "      <td>NaN</td>\n",
              "      <td>NaN</td>\n",
              "      <td>0</td>\n",
              "      <td>0</td>\n",
              "      <td>0</td>\n",
              "      <td>C</td>\n",
              "      <td>NaN</td>\n",
              "      <td>NaN</td>\n",
              "      <td>N</td>\n",
              "      <td>...</td>\n",
              "      <td>NaN</td>\n",
              "      <td>NaN</td>\n",
              "      <td>NaN</td>\n",
              "      <td>N</td>\n",
              "      <td>Y</td>\n",
              "      <td>Unknown</td>\n",
              "      <td>Unknown</td>\n",
              "      <td>03658</td>\n",
              "      <td>03658</td>\n",
              "      <td>18259</td>\n",
              "    </tr>\n",
              "    <tr>\n",
              "      <th>3</th>\n",
              "      <td>KI</td>\n",
              "      <td>NaN</td>\n",
              "      <td>NaN</td>\n",
              "      <td>0</td>\n",
              "      <td>0</td>\n",
              "      <td>0</td>\n",
              "      <td>C</td>\n",
              "      <td>NaN</td>\n",
              "      <td>NaN</td>\n",
              "      <td>N</td>\n",
              "      <td>...</td>\n",
              "      <td>NaN</td>\n",
              "      <td>NaN</td>\n",
              "      <td>NaN</td>\n",
              "      <td>Y</td>\n",
              "      <td>Y</td>\n",
              "      <td>18259</td>\n",
              "      <td>03658</td>\n",
              "      <td>03658</td>\n",
              "      <td>03658</td>\n",
              "      <td>18259</td>\n",
              "    </tr>\n",
              "    <tr>\n",
              "      <th>4</th>\n",
              "      <td>KI</td>\n",
              "      <td>NaN</td>\n",
              "      <td>NaN</td>\n",
              "      <td>1</td>\n",
              "      <td>3</td>\n",
              "      <td>3</td>\n",
              "      <td>C</td>\n",
              "      <td>NaN</td>\n",
              "      <td>NaN</td>\n",
              "      <td>N</td>\n",
              "      <td>...</td>\n",
              "      <td>NaN</td>\n",
              "      <td>NaN</td>\n",
              "      <td>NaN</td>\n",
              "      <td>N</td>\n",
              "      <td>Y</td>\n",
              "      <td>Unknown</td>\n",
              "      <td>Unknown</td>\n",
              "      <td>03658</td>\n",
              "      <td>03658</td>\n",
              "      <td>18259</td>\n",
              "    </tr>\n",
              "    <tr>\n",
              "      <th>5</th>\n",
              "      <td>KI</td>\n",
              "      <td>NaN</td>\n",
              "      <td>NaN</td>\n",
              "      <td>1</td>\n",
              "      <td>5</td>\n",
              "      <td>8</td>\n",
              "      <td>C</td>\n",
              "      <td>NaN</td>\n",
              "      <td>NaN</td>\n",
              "      <td>N</td>\n",
              "      <td>...</td>\n",
              "      <td>NaN</td>\n",
              "      <td>NaN</td>\n",
              "      <td>NaN</td>\n",
              "      <td>Y</td>\n",
              "      <td>Y</td>\n",
              "      <td>18259</td>\n",
              "      <td>03658</td>\n",
              "      <td>03658</td>\n",
              "      <td>03658</td>\n",
              "      <td>18259</td>\n",
              "    </tr>\n",
              "  </tbody>\n",
              "</table>\n",
              "<p>5 rows × 491 columns</p>\n",
              "</div>\n",
              "      <button class=\"colab-df-convert\" onclick=\"convertToInteractive('df-2c19c764-545d-4080-a8c1-156ce5a32534')\"\n",
              "              title=\"Convert this dataframe to an interactive table.\"\n",
              "              style=\"display:none;\">\n",
              "\n",
              "  <svg xmlns=\"http://www.w3.org/2000/svg\" height=\"24px\"viewBox=\"0 0 24 24\"\n",
              "       width=\"24px\">\n",
              "    <path d=\"M0 0h24v24H0V0z\" fill=\"none\"/>\n",
              "    <path d=\"M18.56 5.44l.94 2.06.94-2.06 2.06-.94-2.06-.94-.94-2.06-.94 2.06-2.06.94zm-11 1L8.5 8.5l.94-2.06 2.06-.94-2.06-.94L8.5 2.5l-.94 2.06-2.06.94zm10 10l.94 2.06.94-2.06 2.06-.94-2.06-.94-.94-2.06-.94 2.06-2.06.94z\"/><path d=\"M17.41 7.96l-1.37-1.37c-.4-.4-.92-.59-1.43-.59-.52 0-1.04.2-1.43.59L10.3 9.45l-7.72 7.72c-.78.78-.78 2.05 0 2.83L4 21.41c.39.39.9.59 1.41.59.51 0 1.02-.2 1.41-.59l7.78-7.78 2.81-2.81c.8-.78.8-2.07 0-2.86zM5.41 20L4 18.59l7.72-7.72 1.47 1.35L5.41 20z\"/>\n",
              "  </svg>\n",
              "      </button>\n",
              "\n",
              "\n",
              "\n",
              "    <div id=\"df-597411f3-1dac-46b9-87c8-1d3dc822c83b\">\n",
              "      <button class=\"colab-df-quickchart\" onclick=\"quickchart('df-597411f3-1dac-46b9-87c8-1d3dc822c83b')\"\n",
              "              title=\"Suggest charts.\"\n",
              "              style=\"display:none;\">\n",
              "\n",
              "<svg xmlns=\"http://www.w3.org/2000/svg\" height=\"24px\"viewBox=\"0 0 24 24\"\n",
              "     width=\"24px\">\n",
              "    <g>\n",
              "        <path d=\"M19 3H5c-1.1 0-2 .9-2 2v14c0 1.1.9 2 2 2h14c1.1 0 2-.9 2-2V5c0-1.1-.9-2-2-2zM9 17H7v-7h2v7zm4 0h-2V7h2v10zm4 0h-2v-4h2v4z\"/>\n",
              "    </g>\n",
              "</svg>\n",
              "      </button>\n",
              "    </div>\n",
              "\n",
              "<style>\n",
              "  .colab-df-quickchart {\n",
              "    background-color: #E8F0FE;\n",
              "    border: none;\n",
              "    border-radius: 50%;\n",
              "    cursor: pointer;\n",
              "    display: none;\n",
              "    fill: #1967D2;\n",
              "    height: 32px;\n",
              "    padding: 0 0 0 0;\n",
              "    width: 32px;\n",
              "  }\n",
              "\n",
              "  .colab-df-quickchart:hover {\n",
              "    background-color: #E2EBFA;\n",
              "    box-shadow: 0px 1px 2px rgba(60, 64, 67, 0.3), 0px 1px 3px 1px rgba(60, 64, 67, 0.15);\n",
              "    fill: #174EA6;\n",
              "  }\n",
              "\n",
              "  [theme=dark] .colab-df-quickchart {\n",
              "    background-color: #3B4455;\n",
              "    fill: #D2E3FC;\n",
              "  }\n",
              "\n",
              "  [theme=dark] .colab-df-quickchart:hover {\n",
              "    background-color: #434B5C;\n",
              "    box-shadow: 0px 1px 3px 1px rgba(0, 0, 0, 0.15);\n",
              "    filter: drop-shadow(0px 1px 2px rgba(0, 0, 0, 0.3));\n",
              "    fill: #FFFFFF;\n",
              "  }\n",
              "</style>\n",
              "\n",
              "    <script>\n",
              "      async function quickchart(key) {\n",
              "        const containerElement = document.querySelector('#' + key);\n",
              "        const charts = await google.colab.kernel.invokeFunction(\n",
              "            'suggestCharts', [key], {});\n",
              "      }\n",
              "    </script>\n",
              "\n",
              "      <script>\n",
              "\n",
              "function displayQuickchartButton(domScope) {\n",
              "  let quickchartButtonEl =\n",
              "    domScope.querySelector('#df-597411f3-1dac-46b9-87c8-1d3dc822c83b button.colab-df-quickchart');\n",
              "  quickchartButtonEl.style.display =\n",
              "    google.colab.kernel.accessAllowed ? 'block' : 'none';\n",
              "}\n",
              "\n",
              "        displayQuickchartButton(document);\n",
              "      </script>\n",
              "      <style>\n",
              "    .colab-df-container {\n",
              "      display:flex;\n",
              "      flex-wrap:wrap;\n",
              "      gap: 12px;\n",
              "    }\n",
              "\n",
              "    .colab-df-convert {\n",
              "      background-color: #E8F0FE;\n",
              "      border: none;\n",
              "      border-radius: 50%;\n",
              "      cursor: pointer;\n",
              "      display: none;\n",
              "      fill: #1967D2;\n",
              "      height: 32px;\n",
              "      padding: 0 0 0 0;\n",
              "      width: 32px;\n",
              "    }\n",
              "\n",
              "    .colab-df-convert:hover {\n",
              "      background-color: #E2EBFA;\n",
              "      box-shadow: 0px 1px 2px rgba(60, 64, 67, 0.3), 0px 1px 3px 1px rgba(60, 64, 67, 0.15);\n",
              "      fill: #174EA6;\n",
              "    }\n",
              "\n",
              "    [theme=dark] .colab-df-convert {\n",
              "      background-color: #3B4455;\n",
              "      fill: #D2E3FC;\n",
              "    }\n",
              "\n",
              "    [theme=dark] .colab-df-convert:hover {\n",
              "      background-color: #434B5C;\n",
              "      box-shadow: 0px 1px 3px 1px rgba(0, 0, 0, 0.15);\n",
              "      filter: drop-shadow(0px 1px 2px rgba(0, 0, 0, 0.3));\n",
              "      fill: #FFFFFF;\n",
              "    }\n",
              "  </style>\n",
              "\n",
              "      <script>\n",
              "        const buttonEl =\n",
              "          document.querySelector('#df-2c19c764-545d-4080-a8c1-156ce5a32534 button.colab-df-convert');\n",
              "        buttonEl.style.display =\n",
              "          google.colab.kernel.accessAllowed ? 'block' : 'none';\n",
              "\n",
              "        async function convertToInteractive(key) {\n",
              "          const element = document.querySelector('#df-2c19c764-545d-4080-a8c1-156ce5a32534');\n",
              "          const dataTable =\n",
              "            await google.colab.kernel.invokeFunction('convertToInteractive',\n",
              "                                                     [key], {});\n",
              "          if (!dataTable) return;\n",
              "\n",
              "          const docLinkHtml = 'Like what you see? Visit the ' +\n",
              "            '<a target=\"_blank\" href=https://colab.research.google.com/notebooks/data_table.ipynb>data table notebook</a>'\n",
              "            + ' to learn more about interactive tables.';\n",
              "          element.innerHTML = '';\n",
              "          dataTable['output_type'] = 'display_data';\n",
              "          await google.colab.output.renderOutput(dataTable, element);\n",
              "          const docLink = document.createElement('div');\n",
              "          docLink.innerHTML = docLinkHtml;\n",
              "          element.appendChild(docLink);\n",
              "        }\n",
              "      </script>\n",
              "    </div>\n",
              "  </div>\n"
            ]
          },
          "metadata": {},
          "execution_count": 6
        }
      ],
      "source": [
        "# Preview of dataframe\n",
        "kidpan_data_org.head()"
      ]
    },
    {
      "cell_type": "code",
      "execution_count": 7,
      "metadata": {
        "id": "Fc_D8quflf95"
      },
      "outputs": [],
      "source": [
        "# proceed with KI transplant rows only. since data is combination of KI and PA. PA stands for Pancreas.\n",
        "kidpan_data_org = kidpan_data_org[kidpan_data_org['WL_ORG'] == 'KI']"
      ]
    },
    {
      "cell_type": "code",
      "source": [
        "# check dim of the data. should be (982456, 491)\n",
        "kidpan_data_org.shape"
      ],
      "metadata": {
        "colab": {
          "base_uri": "https://localhost:8080/"
        },
        "id": "4hNGGvdcxRZB",
        "outputId": "467f93e0-bccb-4445-ee51-23135eb53d25"
      },
      "execution_count": 8,
      "outputs": [
        {
          "output_type": "execute_result",
          "data": {
            "text/plain": [
              "(982456, 491)"
            ]
          },
          "metadata": {},
          "execution_count": 8
        }
      ]
    },
    {
      "cell_type": "code",
      "execution_count": 12,
      "metadata": {
        "id": "shGdmqKumkZC"
      },
      "outputs": [],
      "source": [
        "# select variables that will be used for analysis. selection reasoning will be further explained in thesis.\n",
        "kidpan_data_org_selected = kidpan_data_org[[ 'ABO_MAT', 'AGE', 'AGE_DON', 'AMIS', 'BMI_DON_CALC', 'BMI_TCR', 'BMIS', 'CMV_STATUS', 'COLD_ISCH_KI', 'CURRENT_PRA', 'DAYSWAIT_ALLOC', 'DAYSWAIT_CHRON',\n",
        "            'DAYSWAIT_CHRON_KI', 'DIAB', 'DIAL_TRR', 'DON_TY', 'DONATION', 'DRMIS', 'DRUGTRT_COPD',\n",
        "            'DWFG_KI', 'EDUCATION', 'END_CPRA', 'ETHCAT', 'ETHCAT_DON', 'EXH_PERIT_ACCESS', 'EXH_VASC_ACCESS', 'FIRST_WK_DIAL', 'GENDER', 'GENDER_DON',\n",
        "            'GSTATUS_KI', 'GTIME_KI', 'HIST_CANCER_DON', 'HIST_HYPERTENS_DON', 'HIV_SEROSTATUS', 'HLAMIS', 'KDPI', 'KDRI_MED', 'LOS', 'MALIG_TCR_KI', 'NON_HRT_DON',\n",
        "            'NUM_PREV_TX', 'ON_DIALYSIS', 'PERIP_VASC', 'PT_STEROIDS_DON', 'PUMP_KI', 'RT_KI_BIOPSY', 'SERUM_CREAT', 'SHARE_TY', 'TATTOOS', 'TBILI_DON', 'TOT_SERUM_ALBUM',\n",
        "            'TRTREJ1Y_KI', 'TRTREJ6M_KI', 'TX_PROCEDUR_TY_KI', 'TXKID', 'URINE_INF_DON', 'USE_WHICH_PRA', 'VASODIL_DON', 'WORK_INCOME_TCR']]"
      ]
    },
    {
      "cell_type": "code",
      "execution_count": 14,
      "metadata": {
        "id": "IXw7S7gmu5cm"
      },
      "outputs": [],
      "source": [
        "# assuming \"missing at random assumption\" https://www.ncbi.nlm.nih.gov/pmc/articles/PMC7145010/#R12\n",
        "kidpan_data_org_selected = kidpan_data_org_selected.dropna()"
      ]
    },
    {
      "cell_type": "code",
      "execution_count": 15,
      "metadata": {
        "colab": {
          "base_uri": "https://localhost:8080/"
        },
        "id": "MHnHq2Rd1oiB",
        "outputId": "65453759-c355-4b82-807e-448756897696"
      },
      "outputs": [
        {
          "output_type": "execute_result",
          "data": {
            "text/plain": [
              "(8566, 59)"
            ]
          },
          "metadata": {},
          "execution_count": 15
        }
      ],
      "source": [
        "kidpan_data_org_selected.shape"
      ]
    },
    {
      "cell_type": "code",
      "source": [
        "kidpan_data_org_selected.to_csv('./kidney/kidpan_data_org_selected.csv')"
      ],
      "metadata": {
        "id": "bku7IqU3B-Y1"
      },
      "execution_count": 37,
      "outputs": []
    }
  ],
  "metadata": {
    "colab": {
      "machine_shape": "hm",
      "provenance": []
    },
    "gpuClass": "standard",
    "kernelspec": {
      "display_name": "Python 3",
      "name": "python3"
    },
    "language_info": {
      "name": "python"
    }
  },
  "nbformat": 4,
  "nbformat_minor": 0
}